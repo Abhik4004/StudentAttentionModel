{
  "cells": [
    {
      "cell_type": "markdown",
      "metadata": {
        "id": "view-in-github",
        "colab_type": "text"
      },
      "source": [
        "<a href=\"https://colab.research.google.com/github/Abhik4004/StudentAttentionModel/blob/main/StudentAttentionRegressionTree.ipynb\" target=\"_parent\"><img src=\"https://colab.research.google.com/assets/colab-badge.svg\" alt=\"Open In Colab\"/></a>"
      ]
    },
    {
      "cell_type": "code",
      "source": [
        "import numpy as np\n",
        "import pandas as pd\n",
        "import matplotlib.pyplot as plt\n",
        "from sklearn.model_selection import train_test_split"
      ],
      "metadata": {
        "id": "D1QYz3wZWTcv"
      },
      "execution_count": 100,
      "outputs": []
    },
    {
      "cell_type": "code",
      "source": [
        "df = pd.read_csv('/content/sbm_qanda_eye_open.csv')\n",
        "print(df)"
      ],
      "metadata": {
        "colab": {
          "base_uri": "https://localhost:8080/"
        },
        "id": "_9kD8dmOWmLS",
        "outputId": "db1c0a06-8fb9-449b-9699-502814db8941"
      },
      "execution_count": 101,
      "outputs": [
        {
          "output_type": "stream",
          "name": "stdout",
          "text": [
            "    obs   time   Delta   Theta   Alpha1   Alpha2   Beta1   Beta2   Gamma1  \\\n",
            "0     1    5.0  156140   41240    35282    12125    4320    5737     4207   \n",
            "1     2    6.0   48248   88005    19094     5156    3278    4399     4165   \n",
            "2     3    7.0   40773   13156    14656     8733    7761    5393     3824   \n",
            "3     4    8.0   29813   19983     6887     3369    7360    9863     4976   \n",
            "4     5    9.0    6062   13764     5874      528    8075    3622     1839   \n",
            "..  ...    ...     ...     ...      ...      ...     ...     ...      ...   \n",
            "64   65   69.0  211059  140511     6789    15539   18016   11578     5639   \n",
            "65   66   70.0  330686   23814     8551     7721    3594    2448     1859   \n",
            "66   67   71.0   17827    5320     7520    13390   13473    8244     7996   \n",
            "67   68   72.0  453702   46272    15866     9181    7562   10025     5682   \n",
            "68   69   72.0   32741   39239     5539     6352   13678    7165     4454   \n",
            "\n",
            "     Gamma2  Attention  Meditation  Derived   totPwr  class   \n",
            "0      2115         NA          NA       NA   261166      X*  \n",
            "1      2575         NA          NA       NA   174920      X*  \n",
            "2       882         NA          NA       NA    95178      X*  \n",
            "3      2429         51          34       NA    84680      X*  \n",
            "4      2075         60          24       NA    41839      X*  \n",
            "..      ...        ...         ...      ...      ...     ...  \n",
            "64     3876          7          57       NA   413007      X*  \n",
            "65     1029         17          78       NA   379702      X*  \n",
            "66     2107         35          75       NA    75877      X*  \n",
            "67     3153         51          80       NA   551443      X*  \n",
            "68    10428         57          83       NA   119596      X*  \n",
            "\n",
            "[69 rows x 15 columns]\n"
          ]
        }
      ]
    },
    {
      "cell_type": "markdown",
      "source": [
        "**Eye Open**"
      ],
      "metadata": {
        "id": "LJMQh7dYXxL0"
      }
    },
    {
      "cell_type": "code",
      "source": [
        "X = df.iloc[4:,2:10].values.astype(int)\n",
        "y = df.iloc[4:, -5].values.astype(int)"
      ],
      "metadata": {
        "id": "VlFYMZK0Xun8"
      },
      "execution_count": 102,
      "outputs": []
    },
    {
      "cell_type": "code",
      "source": [
        "mean = np.mean(y)\n",
        "print(mean)"
      ],
      "metadata": {
        "colab": {
          "base_uri": "https://localhost:8080/"
        },
        "id": "DuHiI0pEhmcm",
        "outputId": "03884d63-235f-4a4d-cebc-4e82975cdcbc"
      },
      "execution_count": 119,
      "outputs": [
        {
          "output_type": "stream",
          "name": "stdout",
          "text": [
            "65.87692307692308\n"
          ]
        }
      ]
    },
    {
      "cell_type": "code",
      "source": [
        "X"
      ],
      "metadata": {
        "colab": {
          "base_uri": "https://localhost:8080/"
        },
        "id": "NW5bs0WIZ5lV",
        "outputId": "ca613805-f0a8-4804-c671-5c7bf60bf623"
      },
      "execution_count": 103,
      "outputs": [
        {
          "output_type": "execute_result",
          "data": {
            "text/plain": [
              "array([[   6062,   13764,    5874,     528,    8075,    3622,    1839,\n",
              "           2075],\n",
              "       [  12045,   18372,    7035,    2070,    9562,    6967,    3615,\n",
              "            858],\n",
              "       [   2820,    9829,    2071,    3983,   11066,    7412,    2240,\n",
              "           2371],\n",
              "       [  10034,    9581,    3254,    5388,    4343,    5815,    3161,\n",
              "           4204],\n",
              "       [  59853,   71842,   14657,    5691,    7875,    5472,    4380,\n",
              "           3084],\n",
              "       [ 114154,   31525,   17024,   11094,   20615,    7765,    3144,\n",
              "           3316],\n",
              "       [  21254,   23898,   17464,    5992,    6048,    6846,    6659,\n",
              "           2662],\n",
              "       [   7392,   12148,     881,    5346,    5759,    5130,    5255,\n",
              "           1466],\n",
              "       [   2506,    7869,    4835,    2879,    2796,   16053,    2586,\n",
              "           1551],\n",
              "       [  11427,   30104,   19973,    2157,    3569,    4291,    5532,\n",
              "           1036],\n",
              "       [   5860,    1981,    4456,    2705,    3617,    5109,    3341,\n",
              "           1247],\n",
              "       [   3272,   11152,    5433,    1347,    5999,    4866,    4060,\n",
              "           1925],\n",
              "       [  11417,    3754,    5127,    3288,    2089,    5351,    1722,\n",
              "           2150],\n",
              "       [  84515,   44205,   27784,   16911,   30077,   30918,   11481,\n",
              "           2988],\n",
              "       [ 530419,   49444,   60061,   25004,   16344,    6854,    8391,\n",
              "           3752],\n",
              "       [   6806,    6980,    4976,    4271,    6310,   12278,    7482,\n",
              "           2272],\n",
              "       [ 142822,   24231,   10651,   16078,    9680,    7677,    2212,\n",
              "           1088],\n",
              "       [ 565338,  206759,   20314,   24266,   71825,   31934,    8048,\n",
              "           6258],\n",
              "       [  34741,   19061,   21709,    3904,   14405,    4762,    2328,\n",
              "            842],\n",
              "       [  11256,    6514,    8537,    6106,   10439,    4477,    4138,\n",
              "           1930],\n",
              "       [ 231673,   74555,   25760,    8377,    5338,    9521,    4197,\n",
              "           3692],\n",
              "       [ 390352,    9729,    2851,    5490,    3740,    1457,     801,\n",
              "            347],\n",
              "       [  21546,   10438,     387,    7633,    6737,   11565,    3572,\n",
              "            887],\n",
              "       [   3785,    8268,    8024,    5231,    2257,    6586,    4490,\n",
              "           1166],\n",
              "       [  49391,   45577,   20031,   13686,    9999,   14522,    4254,\n",
              "           1880],\n",
              "       [  24621,   23035,   12587,   11491,    4810,    5750,    4629,\n",
              "           1960],\n",
              "       [ 420041,  101290,   19736,    5218,   18980,   18504,    5241,\n",
              "           2030],\n",
              "       [ 768906,  150085,     594,    2446,    5685,   11362,    6724,\n",
              "           2486],\n",
              "       [ 281818,  196249,   40153,   52549,   14227,   10704,    7124,\n",
              "           5513],\n",
              "       [ 151380,   11373,    2848,    4706,    2307,    4627,    2269,\n",
              "           2929],\n",
              "       [ 249783,  131051,   23065,   11067,    8443,    8695,    6671,\n",
              "           1141],\n",
              "       [ 134859,   54499,   15174,   10550,    3971,    6195,    5079,\n",
              "           1424],\n",
              "       [ 343761,   48191,    9818,    4856,    4264,    3520,    1191,\n",
              "            744],\n",
              "       [  43596,   31909,   19722,   15823,   19685,    9337,    3981,\n",
              "           1480],\n",
              "       [  18886,    4700,    1391,    4814,    7906,    3117,    2532,\n",
              "           1228],\n",
              "       [   9879,   16239,   17966,   18542,   16022,   13393,    3559,\n",
              "           1936],\n",
              "       [  13584,   11186,    7289,    2041,   15373,    6813,    3815,\n",
              "           1591],\n",
              "       [  10656,   11828,    3521,    5620,   12332,   11452,    3227,\n",
              "           6090],\n",
              "       [ 315860,   12158,    3534,    4955,    7177,    4032,    2567,\n",
              "            443],\n",
              "       [  75969,   43695,    3378,    3575,    1977,    9440,    5936,\n",
              "           5179],\n",
              "       [  30326,   49874,    6529,    1574,    5742,    8539,    4821,\n",
              "           3357],\n",
              "       [  36632,   61978,   16184,    5746,    9516,    8222,    3386,\n",
              "           4510],\n",
              "       [  64384,   25949,    5712,    2426,    9704,   10724,    5021,\n",
              "           1416],\n",
              "       [ 775187,  201769,   22403,    8403,   17900,   19238,    7846,\n",
              "           4837],\n",
              "       [ 711102,   41222,    1924,    1519,    3026,    7826,    1046,\n",
              "            719],\n",
              "       [  11335,   25571,   18889,    1637,    6496,   13464,    8230,\n",
              "           4575],\n",
              "       [  36274,   30226,   26861,   13206,   17130,    9465,    8504,\n",
              "           1136],\n",
              "       [   2502,   15787,    3736,    9311,    6249,   10161,    3246,\n",
              "           2684],\n",
              "       [  15027,   13351,    1200,    7005,    3477,    6408,    8065,\n",
              "           2284],\n",
              "       [   5343,    7103,    8030,    2022,    6013,    3699,    4653,\n",
              "           2302],\n",
              "       [   2849,    5104,    2787,    6368,    7794,    8515,    4142,\n",
              "           2150],\n",
              "       [   6476,    5005,    8192,    4377,    9829,    4983,    5022,\n",
              "           2209],\n",
              "       [   8050,    5260,    4151,    2081,    5790,    8884,    2135,\n",
              "           1518],\n",
              "       [  10111,   24852,     480,    4067,    6273,    8285,    7795,\n",
              "           1815],\n",
              "       [  15586,    7092,    6174,    1047,    4553,    9451,    5212,\n",
              "           1977],\n",
              "       [  45140,   28181,    5166,    4846,    8957,    8203,    3116,\n",
              "           1933],\n",
              "       [  13078,   12815,    6605,   12275,    8798,    4944,    4019,\n",
              "           2328],\n",
              "       [ 279134,  255389,    6941,   10247,   10897,    5777,    2302,\n",
              "           1288],\n",
              "       [1510243,   91261,  123279,   88714,   66000,   20273,    9453,\n",
              "           3954],\n",
              "       [  85752,   44190,    8975,    4725,   13775,    1734,     760,\n",
              "            307],\n",
              "       [ 211059,  140511,    6789,   15539,   18016,   11578,    5639,\n",
              "           3876],\n",
              "       [ 330686,   23814,    8551,    7721,    3594,    2448,    1859,\n",
              "           1029],\n",
              "       [  17827,    5320,    7520,   13390,   13473,    8244,    7996,\n",
              "           2107],\n",
              "       [ 453702,   46272,   15866,    9181,    7562,   10025,    5682,\n",
              "           3153],\n",
              "       [  32741,   39239,    5539,    6352,   13678,    7165,    4454,\n",
              "          10428]])"
            ]
          },
          "metadata": {},
          "execution_count": 103
        }
      ]
    },
    {
      "cell_type": "code",
      "source": [
        "y"
      ],
      "metadata": {
        "colab": {
          "base_uri": "https://localhost:8080/"
        },
        "id": "GM8NkJQeZ7PA",
        "outputId": "ad397edb-da18-4a9c-df12-08fcf69567be"
      },
      "execution_count": 104,
      "outputs": [
        {
          "output_type": "execute_result",
          "data": {
            "text/plain": [
              "array([ 60,  69,  87,  87,  74,  67,  56,  54,  83,  78,  91,  91,  83,\n",
              "        97,  75,  84,  74,  61,  69,  57,  53,  48,  64,  67,  77,  80,\n",
              "        66,  53,  37,  43,  34,  34,  37,  30,  48,  60,  78,  93,  88,\n",
              "        84,  77,  60,  64,  56,  57,  67,  61,  75,  80,  77,  91,  90,\n",
              "       100, 100, 100, 100,  84,  57,  35,  13,   7,  17,  35,  51,  57])"
            ]
          },
          "metadata": {},
          "execution_count": 104
        }
      ]
    },
    {
      "cell_type": "code",
      "source": [
        "from sklearn.model_selection import train_test_split\n",
        "x_train, x_test, y_train, y_test = train_test_split(X, y, test_size = 0.25, random_state = 0)"
      ],
      "metadata": {
        "id": "OxFlUSXpadEB"
      },
      "execution_count": 105,
      "outputs": []
    },
    {
      "cell_type": "code",
      "source": [
        "from sklearn.preprocessing import StandardScaler\n",
        "sc = StandardScaler()\n",
        "x_train = sc.fit_transform(x_train)\n",
        "x_test = sc.transform(x_test)"
      ],
      "metadata": {
        "id": "C-09XIvzZ9Dw"
      },
      "execution_count": 106,
      "outputs": []
    },
    {
      "cell_type": "code",
      "source": [
        "x_train"
      ],
      "metadata": {
        "colab": {
          "base_uri": "https://localhost:8080/"
        },
        "id": "vjmsq3R2bLra",
        "outputId": "56120edb-7891-48e3-9d8f-4e8e0ff6f901"
      },
      "execution_count": 107,
      "outputs": [
        {
          "output_type": "execute_result",
          "data": {
            "text/plain": [
              "array([[-5.31559667e-01, -4.73498395e-01,  2.58600806e-01,\n",
              "         7.24998289e-01,  3.49024423e-01,  7.87599908e-01,\n",
              "        -3.73242743e-01, -2.53502150e-01],\n",
              "       [-5.38233201e-01, -6.83970704e-01, -4.63893776e-01,\n",
              "        -5.51357960e-01, -4.25968949e-01,  3.43006761e-02,\n",
              "        -9.60546501e-01, -4.84056846e-01],\n",
              "       [-4.35251331e-01, -2.05361389e-01,  7.23790044e-01,\n",
              "         3.11254474e-01,  4.32946692e-01,  1.31365847e-01,\n",
              "         1.66623555e+00, -6.94755157e-01],\n",
              "       [ 3.43786233e-01,  1.72749867e+00,  5.25267464e-01,\n",
              "         1.45400272e-01, -2.25025105e-01,  2.72525920e-03,\n",
              "         9.10246931e-01, -6.91997326e-01],\n",
              "       [-5.40634068e-01, -5.51924683e-01, -6.34907695e-01,\n",
              "        -2.98195749e-01, -4.28316955e-01, -5.92863954e-01,\n",
              "         3.26242632e-01, -5.12738292e-01],\n",
              "       [ 1.36775237e+00,  1.63056212e-01,  2.46007815e+00,\n",
              "         1.22605011e+00,  3.73413386e-01, -3.04842691e-01,\n",
              "         1.61963068e+00,  7.48142175e-01],\n",
              "       [ 2.23792801e+00,  2.09238891e+00, -6.49917173e-01,\n",
              "        -5.23056518e-01, -4.33921872e-01,  4.48289476e-01,\n",
              "         9.32105849e-01,  4.98592916e-02],\n",
              "       [-4.48142308e-01, -3.25781734e-02, -3.91304382e-01,\n",
              "        -2.20192324e-01,  1.71484894e-01, -2.52885259e-01,\n",
              "        -4.11573180e-03,  4.43039851e+00],\n",
              "       [-4.02901654e-01, -2.44564948e-01, -4.10811474e-01,\n",
              "        -3.36964847e-01, -1.86093655e-01, -7.94710642e-02,\n",
              "        -5.55950303e-01, -2.55156849e-01],\n",
              "       [-4.33945084e-01,  4.03338562e-01,  1.65406065e-01,\n",
              "        -2.67180471e-01, -1.43753810e-01, -7.62968159e-02,\n",
              "        -4.44593551e-01,  1.16622940e+00],\n",
              "       [-3.32685416e-01, -2.87353380e-01, -3.82256857e-01,\n",
              "        -5.24607282e-01, -1.29514291e-01,  3.41701560e-01,\n",
              "         2.29733447e-01, -5.40316605e-01],\n",
              "       [ 4.94286959e+00,  9.64706686e-01,  5.76624264e+00,\n",
              "         6.16600860e+00,  4.13446410e+00,  1.93701191e+00,\n",
              "         2.05763391e+00,  8.59558559e-01],\n",
              "       [-4.40844840e-01, -4.19399401e-01,  4.54351601e-01,\n",
              "        -4.10005828e-01,  2.26549415e-01, -6.54344131e-01,\n",
              "        -8.80947045e-01, -8.56915637e-01],\n",
              "       [ 6.38979766e-01, -3.28282278e-01, -2.33783305e-01,\n",
              "        -1.14042533e-01, -5.92298645e-01, -1.04093416e+00,\n",
              "        -1.07437785e+00, -7.53772747e-01],\n",
              "       [ 6.86686964e-01,  1.39035645e-01, -1.67521949e-01,\n",
              "        -3.36189465e-01, -5.41551425e-01, -8.61839728e-01,\n",
              "        -1.34988270e+00, -9.10969130e-01],\n",
              "       [-5.42772226e-01, -6.50997540e-01, -4.20748063e-01,\n",
              "        -3.81549310e-01, -3.86583047e-01,  6.01321655e-01,\n",
              "         1.24472962e+00, -6.81758877e-02],\n",
              "       [-1.51087921e-01, -1.80458982e-01,  2.09336246e-01,\n",
              "         1.47493803e-01,  6.96907981e-01, -1.52645840e-01,\n",
              "        -5.44402195e-01,  5.07659286e-01],\n",
              "       [-4.64860123e-02, -3.20288203e-01, -1.23957853e-01,\n",
              "         5.33944174e-01, -1.31332102e-01, -1.67347621e-01,\n",
              "        -9.28789205e-01, -7.21230338e-01],\n",
              "       [ 2.77707659e-01,  6.44445241e-01,  6.66210128e-01,\n",
              "        -6.31774762e-02, -4.60204388e-01,  1.40721526e-01,\n",
              "        -1.10110862e-01,  7.15048199e-01],\n",
              "       [-5.19887366e-01, -5.39137996e-01, -3.35554891e-01,\n",
              "         2.39066413e-01, -1.98136652e-01, -6.23938174e-01,\n",
              "        -1.83523832e-01, -3.72881773e-02],\n",
              "       [-5.58461783e-01, -6.33955015e-01, -4.28122058e-01,\n",
              "        -4.89482479e-01, -6.52740857e-01,  1.23199466e+00,\n",
              "        -7.74539482e-01, -4.65855160e-01],\n",
              "       [-2.59232750e-01,  6.26222536e-02,  7.72060945e-01,\n",
              "         5.98533491e-01,  1.41357992e+00,  3.71542626e+00,\n",
              "         2.89404685e+00,  3.26745553e-01],\n",
              "       [-4.77770029e-01, -3.43216055e-01, -2.27092451e-02,\n",
              "         1.78276467e-01, -5.00196227e-01, -4.89283221e-01,\n",
              "         6.80599408e-02, -2.40264560e-01],\n",
              "       [-5.28724600e-01, -5.58059225e-01, -4.96841412e-01,\n",
              "        -2.76950283e-01,  6.95360001e-02,  4.63325388e-01,\n",
              "        -5.10170305e-01,  2.03770409e+00],\n",
              "       [ 1.49516251e+00,  3.17885467e+00,  3.81396122e-01,\n",
              "         1.16882692e+00,  4.57566195e+00,  3.88516501e+00,\n",
              "         1.47816637e+00,  2.13036722e+00],\n",
              "       [-5.12775984e-01, -5.28862638e-01, -6.18224686e-01,\n",
              "        -1.69559882e-01, -6.01160473e-01, -3.79353992e-01,\n",
              "         1.48517772e+00, -6.15570926e-02],\n",
              "       [-5.43976309e-01, -6.88859167e-01, -2.52558227e-01,\n",
              "        -3.73330261e-01, -1.20046526e-01, -6.17422612e-01,\n",
              "         2.30145880e-01, -1.02924562e-01],\n",
              "       [ 4.50880227e-01,  4.11111339e+00, -3.17982818e-01,\n",
              "         8.18189509e-02, -3.91539422e-02, -4.84772447e-01,\n",
              "        -8.91670288e-01, -6.10917086e-01],\n",
              "       [ 5.84883635e-01, -5.51732978e-01, -4.96161540e-01,\n",
              "        -3.28513184e-01, -3.20914629e-01, -7.76302090e-01,\n",
              "        -7.82375698e-01, -1.07699057e+00],\n",
              "       [-5.23656509e-01, -4.32607837e-01, -3.13066822e-01,\n",
              "        -5.52210880e-01, -1.40269672e-01, -2.85964267e-01,\n",
              "        -3.50146528e-01, -8.48090577e-01],\n",
              "       [-5.25947914e-01, -7.12841393e-01, -4.12851090e-01,\n",
              "        -4.57769357e-01, -7.06290536e-01, -5.55942435e-01,\n",
              "        -1.13088109e+00, -1.35466971e-01],\n",
              "       [-5.48110324e-01, -6.48639575e-01, -2.61030477e-01,\n",
              "        -5.55932714e-01, -4.09078457e-01, -8.31934968e-01,\n",
              "         7.79583187e-02, -5.16289000e-02],\n",
              "       [-3.87390886e-01,  8.89241033e-02,  3.66595834e-01,\n",
              "         3.48472808e-01, -1.07170366e-01,  9.76217081e-01,\n",
              "        -8.66022147e-02, -2.84389861e-01],\n",
              "       [-4.90055316e-01, -3.26671961e-01,  2.32347293e-01,\n",
              "        -2.48106074e-01, -4.06427482e-01, -3.06179216e-01,\n",
              "         9.05297742e-01,  1.46934953e-01],\n",
              "       [-5.53795052e-01, -6.26306007e-01, -2.61344264e-01,\n",
              "        -3.07112642e-01, -6.93565860e-01, -3.49616298e-01,\n",
              "         1.07318351e-02, -6.78208169e-01],\n",
              "       [-5.18041107e-01, -5.70366650e-01, -2.99783172e-01,\n",
              "        -5.54459488e-01,  2.99867787e-01, -3.11692384e-01,\n",
              "        -2.67660045e-01, -4.43792510e-01],\n",
              "       [-5.57210267e-01, -6.86961293e-01, -5.35228022e-01,\n",
              "        -2.18951713e-01, -2.74181741e-01, -2.73465664e-02,\n",
              "        -1.32794645e-01, -1.35466971e-01],\n",
              "       [ 8.56685133e-01, -5.98297988e-01, -5.31880961e-01,\n",
              "        -2.87030249e-01, -5.81240296e-01, -1.20649626e+00,\n",
              "        -1.51073134e+00, -1.12994093e+00],\n",
              "       [-5.26535360e-01, -6.59930967e-01, -2.34515474e-01,\n",
              "        -2.39266720e-01, -7.38438332e-02, -7.01957855e-01,\n",
              "        -1.34444375e-01, -2.56811548e-01],\n",
              "       [-5.25911426e-01, -2.07700183e-01,  3.63562560e-01,\n",
              "        -5.45465057e-01, -5.94192198e-01, -7.33032075e-01,\n",
              "         4.40486411e-01, -7.49911783e-01],\n",
              "       [-2.90414831e-01,  5.28453269e-02, -5.04320002e-01,\n",
              "        -4.35515895e-01, -7.14773653e-01,  1.27189204e-01,\n",
              "         6.07109107e-01,  1.53522723e+00],\n",
              "       [ 2.02492655e-01,  1.90885107e+00, -3.25932089e-01,\n",
              "         4.92151086e-01,  5.00054211e-01,  4.84375666e-01,\n",
              "         4.84616680e-01,  8.16536391e-01],\n",
              "       [-2.54719266e-01,  6.23346969e-02, -2.11609023e-01,\n",
              "        -3.46346969e-01,  1.78831879e-01, -1.16021906e+00,\n",
              "        -1.52764107e+00, -1.15200359e+00],\n",
              "       [-5.30994113e-01, -6.01135214e-01, -5.10804934e-01,\n",
              "        -2.94939145e-01, -5.35567797e-01, -4.78423951e-01,\n",
              "        -5.37390844e-01,  9.97450123e-01],\n",
              "       [-5.45486884e-01, -5.20945245e-01, -3.73784608e-01,\n",
              "        -6.71774779e-01, -2.52898205e-01, -8.44799026e-01,\n",
              "        -1.08262650e+00, -1.76834441e-01],\n",
              "       [-5.30713160e-01, -3.08383357e-01, -6.55879126e-01,\n",
              "        -3.97367102e-01, -3.89385505e-01, -6.57716770e-02,\n",
              "         1.37382097e+00, -3.20241668e-01],\n",
              "       [-5.58476378e-01, -4.82163436e-01, -4.85597378e-01,\n",
              "         9.24319915e-03, -3.91203316e-01,  2.47643572e-01,\n",
              "        -5.02334089e-01,  1.59069411e-01],\n",
              "       [ 2.02701659e+00,  5.43681791e-03, -5.80361054e-01,\n",
              "        -5.94934426e-01, -6.35320169e-01, -1.42454832e-01,\n",
              "        -1.40968540e+00, -9.24758287e-01]])"
            ]
          },
          "metadata": {},
          "execution_count": 107
        }
      ]
    },
    {
      "cell_type": "code",
      "source": [
        "from sklearn.ensemble import RandomForestRegressor\n",
        "regressor = RandomForestRegressor(n_estimators = 5, random_state = 0)\n",
        "regressor.fit(x_train, y_train)"
      ],
      "metadata": {
        "colab": {
          "base_uri": "https://localhost:8080/",
          "height": 74
        },
        "id": "pVlfoKbxbOGd",
        "outputId": "db124cb4-e464-495e-9a79-26d0ca612b37"
      },
      "execution_count": 113,
      "outputs": [
        {
          "output_type": "execute_result",
          "data": {
            "text/plain": [
              "RandomForestRegressor(n_estimators=5, random_state=0)"
            ],
            "text/html": [
              "<style>#sk-container-id-15 {color: black;background-color: white;}#sk-container-id-15 pre{padding: 0;}#sk-container-id-15 div.sk-toggleable {background-color: white;}#sk-container-id-15 label.sk-toggleable__label {cursor: pointer;display: block;width: 100%;margin-bottom: 0;padding: 0.3em;box-sizing: border-box;text-align: center;}#sk-container-id-15 label.sk-toggleable__label-arrow:before {content: \"▸\";float: left;margin-right: 0.25em;color: #696969;}#sk-container-id-15 label.sk-toggleable__label-arrow:hover:before {color: black;}#sk-container-id-15 div.sk-estimator:hover label.sk-toggleable__label-arrow:before {color: black;}#sk-container-id-15 div.sk-toggleable__content {max-height: 0;max-width: 0;overflow: hidden;text-align: left;background-color: #f0f8ff;}#sk-container-id-15 div.sk-toggleable__content pre {margin: 0.2em;color: black;border-radius: 0.25em;background-color: #f0f8ff;}#sk-container-id-15 input.sk-toggleable__control:checked~div.sk-toggleable__content {max-height: 200px;max-width: 100%;overflow: auto;}#sk-container-id-15 input.sk-toggleable__control:checked~label.sk-toggleable__label-arrow:before {content: \"▾\";}#sk-container-id-15 div.sk-estimator input.sk-toggleable__control:checked~label.sk-toggleable__label {background-color: #d4ebff;}#sk-container-id-15 div.sk-label input.sk-toggleable__control:checked~label.sk-toggleable__label {background-color: #d4ebff;}#sk-container-id-15 input.sk-hidden--visually {border: 0;clip: rect(1px 1px 1px 1px);clip: rect(1px, 1px, 1px, 1px);height: 1px;margin: -1px;overflow: hidden;padding: 0;position: absolute;width: 1px;}#sk-container-id-15 div.sk-estimator {font-family: monospace;background-color: #f0f8ff;border: 1px dotted black;border-radius: 0.25em;box-sizing: border-box;margin-bottom: 0.5em;}#sk-container-id-15 div.sk-estimator:hover {background-color: #d4ebff;}#sk-container-id-15 div.sk-parallel-item::after {content: \"\";width: 100%;border-bottom: 1px solid gray;flex-grow: 1;}#sk-container-id-15 div.sk-label:hover label.sk-toggleable__label {background-color: #d4ebff;}#sk-container-id-15 div.sk-serial::before {content: \"\";position: absolute;border-left: 1px solid gray;box-sizing: border-box;top: 0;bottom: 0;left: 50%;z-index: 0;}#sk-container-id-15 div.sk-serial {display: flex;flex-direction: column;align-items: center;background-color: white;padding-right: 0.2em;padding-left: 0.2em;position: relative;}#sk-container-id-15 div.sk-item {position: relative;z-index: 1;}#sk-container-id-15 div.sk-parallel {display: flex;align-items: stretch;justify-content: center;background-color: white;position: relative;}#sk-container-id-15 div.sk-item::before, #sk-container-id-15 div.sk-parallel-item::before {content: \"\";position: absolute;border-left: 1px solid gray;box-sizing: border-box;top: 0;bottom: 0;left: 50%;z-index: -1;}#sk-container-id-15 div.sk-parallel-item {display: flex;flex-direction: column;z-index: 1;position: relative;background-color: white;}#sk-container-id-15 div.sk-parallel-item:first-child::after {align-self: flex-end;width: 50%;}#sk-container-id-15 div.sk-parallel-item:last-child::after {align-self: flex-start;width: 50%;}#sk-container-id-15 div.sk-parallel-item:only-child::after {width: 0;}#sk-container-id-15 div.sk-dashed-wrapped {border: 1px dashed gray;margin: 0 0.4em 0.5em 0.4em;box-sizing: border-box;padding-bottom: 0.4em;background-color: white;}#sk-container-id-15 div.sk-label label {font-family: monospace;font-weight: bold;display: inline-block;line-height: 1.2em;}#sk-container-id-15 div.sk-label-container {text-align: center;}#sk-container-id-15 div.sk-container {/* jupyter's `normalize.less` sets `[hidden] { display: none; }` but bootstrap.min.css set `[hidden] { display: none !important; }` so we also need the `!important` here to be able to override the default hidden behavior on the sphinx rendered scikit-learn.org. See: https://github.com/scikit-learn/scikit-learn/issues/21755 */display: inline-block !important;position: relative;}#sk-container-id-15 div.sk-text-repr-fallback {display: none;}</style><div id=\"sk-container-id-15\" class=\"sk-top-container\"><div class=\"sk-text-repr-fallback\"><pre>RandomForestRegressor(n_estimators=5, random_state=0)</pre><b>In a Jupyter environment, please rerun this cell to show the HTML representation or trust the notebook. <br />On GitHub, the HTML representation is unable to render, please try loading this page with nbviewer.org.</b></div><div class=\"sk-container\" hidden><div class=\"sk-item\"><div class=\"sk-estimator sk-toggleable\"><input class=\"sk-toggleable__control sk-hidden--visually\" id=\"sk-estimator-id-15\" type=\"checkbox\" checked><label for=\"sk-estimator-id-15\" class=\"sk-toggleable__label sk-toggleable__label-arrow\">RandomForestRegressor</label><div class=\"sk-toggleable__content\"><pre>RandomForestRegressor(n_estimators=5, random_state=0)</pre></div></div></div></div></div>"
            ]
          },
          "metadata": {},
          "execution_count": 113
        }
      ]
    },
    {
      "cell_type": "code",
      "source": [
        "y_pred = regressor.predict(x_test)"
      ],
      "metadata": {
        "id": "8kUQ6_yGcEnj"
      },
      "execution_count": 114,
      "outputs": []
    },
    {
      "cell_type": "code",
      "source": [
        "print(y_pred)"
      ],
      "metadata": {
        "colab": {
          "base_uri": "https://localhost:8080/"
        },
        "id": "Wt_JGlMIhdyn",
        "outputId": "877fe406-63d7-4e07-f31e-bdc5944dab30"
      },
      "execution_count": 115,
      "outputs": [
        {
          "output_type": "stream",
          "name": "stdout",
          "text": [
            "[73.2 86.6 51.4 91.6 90.4 67.4 73.  57.4 43.8 60.6 86.6 81.4 81.  51.4\n",
            " 70.  69.2 89. ]\n"
          ]
        }
      ]
    },
    {
      "cell_type": "code",
      "source": [
        "from sklearn.metrics import r2_score\n",
        "r2_score(y_test, y_pred)"
      ],
      "metadata": {
        "colab": {
          "base_uri": "https://localhost:8080/"
        },
        "id": "-d9LqRZ4cEbt",
        "outputId": "bcd04722-2788-4bf4-ff11-751556fe24be"
      },
      "execution_count": 116,
      "outputs": [
        {
          "output_type": "execute_result",
          "data": {
            "text/plain": [
              "-0.5704702680557181"
            ]
          },
          "metadata": {},
          "execution_count": 116
        }
      ]
    }
  ],
  "metadata": {
    "colab": {
      "provenance": [],
      "mount_file_id": "1FTho5_CuOHvTQ7YkLFjom0ESq0U4H1AL",
      "authorship_tag": "ABX9TyMxE5R6hXvaWWg1lnaDRHGa",
      "include_colab_link": true
    },
    "kernelspec": {
      "display_name": "Python 3",
      "name": "python3"
    },
    "language_info": {
      "name": "python"
    }
  },
  "nbformat": 4,
  "nbformat_minor": 0
}